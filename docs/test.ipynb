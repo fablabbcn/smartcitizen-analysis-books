{
 "cells": [
  {
   "cell_type": "markdown",
   "id": "de595471",
   "metadata": {},
   "source": [
    "# Example test"
   ]
  },
  {
   "cell_type": "code",
   "execution_count": 2,
   "id": "b011cb00-5cd0-420e-a87c-047257db7906",
   "metadata": {},
   "outputs": [],
   "source": [
    "import scdata as sc"
   ]
  },
  {
   "cell_type": "code",
   "execution_count": null,
   "id": "f0ef2104-6708-4720-9acf-6b1897c761e3",
   "metadata": {},
   "outputs": [],
   "source": []
  }
 ],
 "metadata": {
  "kernelspec": {
   "display_name": "Python 3 (ipykernel)",
   "language": "python",
   "name": "python3"
  },
  "language_info": {
   "codemirror_mode": {
    "name": "ipython",
    "version": 3
   },
   "file_extension": ".py",
   "mimetype": "text/x-python",
   "name": "python",
   "nbconvert_exporter": "python",
   "pygments_lexer": "ipython3",
   "version": "3.11.7"
  }
 },
 "nbformat": 4,
 "nbformat_minor": 5
}
