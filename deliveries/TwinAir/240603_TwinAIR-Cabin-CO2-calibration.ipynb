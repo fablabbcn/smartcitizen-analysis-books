{
 "cells": [
  {
   "cell_type": "markdown",
   "id": "40dea9b4-6734-470a-abb8-6df5ad7475cc",
   "metadata": {},
   "source": [
    "# CO2 Calibration"
   ]
  },
  {
   "cell_type": "code",
   "execution_count": null,
   "id": "d98b7cec-64fa-4d8f-89cd-14828e32dacc",
   "metadata": {},
   "outputs": [],
   "source": [
    "import pandas as pd\n",
    "import smartcitizen_connector\n",
    "import scdata as sc\n",
    "import time\n",
    "now = time.localtime()"
   ]
  },
  {
   "cell_type": "markdown",
   "id": "cae0be39-67b1-4cf7-8126-daa5633a6332",
   "metadata": {},
   "source": [
    "## TwinAIR CO2 Cabin test (not corrected)"
   ]
  },
  {
   "cell_type": "code",
   "execution_count": null,
   "id": "0808b138-3a98-4ddd-ba4e-f7365a63d627",
   "metadata": {},
   "outputs": [],
   "source": [
    "devices = [17265, 17295, 17306, 17313, 17318, 17319]"
   ]
  },
  {
   "cell_type": "code",
   "execution_count": null,
   "id": "e27c94f3-c959-461a-8629-49259cf858bb",
   "metadata": {
    "scrolled": true
   },
   "outputs": [],
   "source": [
    "devices_api = [sc.Device(blueprint='sc_air', params=sc.APIParams(id=id)) for id in devices]"
   ]
  },
  {
   "cell_type": "code",
   "execution_count": null,
   "id": "e27233a1-481a-4a8e-9c38-4e54ca42a03d",
   "metadata": {},
   "outputs": [],
   "source": [
    "devices_csv = [sc.Device(blueprint='sc_air',\n",
    "                        source={'type':'csv', \n",
    "                                'handler': 'CSVHandler',\n",
    "                                'module': 'scdata.io.device_file'},\n",
    "                        params=sc.CSVParams(id=0, \n",
    "                                            path=f'csv/CO2 Chamber Testing SCKs_7545Test 001_raw.csv',\n",
    "                                            header_skip=[1],\n",
    "                                            separator='\\t',\n",
    "                                            timezone='Europe/Madrid')\n",
    "                      )]"
   ]
  },
  {
   "cell_type": "code",
   "execution_count": null,
   "id": "1ae1e0af-177c-441d-b6e8-6f801969dd58",
   "metadata": {
    "scrolled": true
   },
   "outputs": [],
   "source": [
    "test = sc.Test(name=f'CO2_CHAMBER_TEST_1',\n",
    "            devices=devices_api + devices_csv,\n",
    "            force_recreate=True\n",
    ")\n",
    "test.options.cache=True"
   ]
  },
  {
   "cell_type": "code",
   "execution_count": null,
   "id": "71c80312-fbbf-4841-822b-27fb58367e0c",
   "metadata": {
    "scrolled": true
   },
   "outputs": [],
   "source": [
    "await test.load()"
   ]
  },
  {
   "cell_type": "code",
   "execution_count": null,
   "id": "c0efbede-df93-40b0-b711-ff5a3d7e2251",
   "metadata": {},
   "outputs": [],
   "source": [
    "test.get_device(0).data.index = test.get_device(0).data.index - pd.Timedelta(hours=1) "
   ]
  },
  {
   "cell_type": "code",
   "execution_count": null,
   "id": "984bff40-9e36-4aee-8cb7-a7ad71b8326f",
   "metadata": {},
   "outputs": [],
   "source": [
    "traces = {\n",
    "            \"1\": {\"devices\": [17265, 17295, 17313, 17318, 17319, 17306],\n",
    "                  \"channel\": \"SCD30_CO2\",\n",
    "                  \"subplot\": 1},\n",
    "            \"2\": {\"devices\": [0],\n",
    "                  \"channel\": \"CO2\",\n",
    "                  \"subplot\": 1}\n",
    "        }\n",
    "\n",
    "test.ts_uplot(traces = traces, \n",
    "              formatting = {'width':1000, \n",
    "                            'title': 'CO2',\n",
    "                            'padding-bottom': 600,\n",
    "                            'ylabel': {1: 'CO2 (ppm)'}\n",
    "                           }, \n",
    "              options = {'frequency': '1Min', \n",
    "                         'min_date':'2024-05-22 18:50:00', \n",
    "                         'max_date':'2024-05-24 16:15:00'\n",
    "                         })"
   ]
  },
  {
   "cell_type": "markdown",
   "id": "2fe91e16-9006-4ab1-ab6e-b9a887e9c9f2",
   "metadata": {},
   "source": [
    "## TwinAIR CO2 Cabin test (corrected)"
   ]
  },
  {
   "cell_type": "code",
   "execution_count": null,
   "id": "6b16799d-b531-4f72-952b-4ce4eeae7865",
   "metadata": {},
   "outputs": [],
   "source": [
    "devices_2 = [ 17265, 17295, 17313, 17319]"
   ]
  }
 ],
 "metadata": {
  "kernelspec": {
   "display_name": "Python 3 (ipykernel)",
   "language": "python",
   "name": "python3"
  },
  "language_info": {
   "codemirror_mode": {
    "name": "ipython",
    "version": 3
   },
   "file_extension": ".py",
   "mimetype": "text/x-python",
   "name": "python",
   "nbconvert_exporter": "python",
   "pygments_lexer": "ipython3",
   "version": "3.11.9"
  }
 },
 "nbformat": 4,
 "nbformat_minor": 5
}
